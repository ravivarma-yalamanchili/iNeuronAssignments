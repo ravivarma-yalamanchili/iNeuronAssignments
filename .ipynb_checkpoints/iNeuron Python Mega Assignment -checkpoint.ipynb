{
 "cells": [
  {
   "cell_type": "markdown",
   "id": "0c1257de",
   "metadata": {},
   "source": [
    "# Assignment Part-2"
   ]
  },
  {
   "cell_type": "markdown",
   "id": "2f8c2926",
   "metadata": {},
   "source": [
    "#### Q26. What is a string? How can we declare string in Python?\n",
    "     A)string is a one of the data type in Python\n",
    "        we can declare the string the string by using either single quotes, double quotes, or triple quotes and then assign it to a variable"
   ]
  },
  {
   "cell_type": "markdown",
   "id": "8120ee0d",
   "metadata": {},
   "source": [
    "#### Q27. How can we access the string using its index?\n",
    "        A)By using square brackets \n",
    "        ex: str = 'ravi' --> str[0] = 'r'"
   ]
  },
  {
   "cell_type": "code",
   "execution_count": 1,
   "id": "29ab7de8",
   "metadata": {},
   "outputs": [
    {
     "data": {
      "text/plain": [
       "'r'"
      ]
     },
     "execution_count": 1,
     "metadata": {},
     "output_type": "execute_result"
    }
   ],
   "source": [
    "str1 = 'ravi' \n",
    "str1[0]"
   ]
  },
  {
   "cell_type": "markdown",
   "id": "12c210f1",
   "metadata": {},
   "source": [
    "#### Q28. Write a code to get the desired output of the following\n",
    "        string = \"Big Data iNeuron\"\n",
    "        desired_output = \"iNeuron\""
   ]
  },
  {
   "cell_type": "code",
   "execution_count": 2,
   "id": "d7e4e071",
   "metadata": {},
   "outputs": [
    {
     "name": "stdout",
     "output_type": "stream",
     "text": [
      "iNeuron\n"
     ]
    }
   ],
   "source": [
    "string = \"Big Data iNeuron\"\n",
    "print(string[9:])"
   ]
  },
  {
   "cell_type": "markdown",
   "id": "57a786cb",
   "metadata": {},
   "source": [
    "#### Q29. Write a code to get the desired output of the following\n",
    "        string = \"Big Data iNeuron\"\n",
    "        desired_output = \"norueNi\""
   ]
  },
  {
   "cell_type": "code",
   "execution_count": 3,
   "id": "9d706845",
   "metadata": {},
   "outputs": [
    {
     "name": "stdout",
     "output_type": "stream",
     "text": [
      "norueNi \n"
     ]
    }
   ],
   "source": [
    "string = \"Big Data iNeuron\"\n",
    "print(string[:7:-1])"
   ]
  },
  {
   "cell_type": "markdown",
   "id": "81e57116",
   "metadata": {},
   "source": [
    "#### Q30. Resverse the string given in the above question."
   ]
  },
  {
   "cell_type": "code",
   "execution_count": 4,
   "id": "c7856781",
   "metadata": {},
   "outputs": [
    {
     "data": {
      "text/plain": [
       "'norueNi ataD giB'"
      ]
     },
     "execution_count": 4,
     "metadata": {},
     "output_type": "execute_result"
    }
   ],
   "source": [
    "string[::-1]"
   ]
  },
  {
   "cell_type": "markdown",
   "id": "10f4e0f0",
   "metadata": {},
   "source": [
    "#### Q31. How can you delete entire string at once?"
   ]
  },
  {
   "cell_type": "code",
   "execution_count": 5,
   "id": "e2a7d5ee",
   "metadata": {},
   "outputs": [],
   "source": [
    "del(string)"
   ]
  },
  {
   "cell_type": "markdown",
   "id": "5da19380",
   "metadata": {},
   "source": [
    "#### Q32. What is escape sequence?\n",
    "        To print the special characters backslash \\ followed by the character "
   ]
  },
  {
   "cell_type": "markdown",
   "id": "b5a324dc",
   "metadata": {},
   "source": [
    "#### Q33. How can you print the below string?\n",
    "        'iNeuron's Big Data Course'"
   ]
  },
  {
   "cell_type": "code",
   "execution_count": 6,
   "id": "de510fd0",
   "metadata": {},
   "outputs": [
    {
     "name": "stdout",
     "output_type": "stream",
     "text": [
      "iNeuron's Big Data Course\n"
     ]
    }
   ],
   "source": [
    "print(\"iNeuron's Big Data Course\")"
   ]
  },
  {
   "cell_type": "markdown",
   "id": "426da0a2",
   "metadata": {},
   "source": [
    "#### Q34. What is a list in Python?\n",
    "        A) List is used to stored the sequence of values, these can be non-homogeneous as well"
   ]
  },
  {
   "cell_type": "markdown",
   "id": "ce44308c",
   "metadata": {},
   "source": [
    "#### Q35. How can you create a list in Python?\n",
    "        A) using square brackets we can create a list or using list method\n"
   ]
  },
  {
   "cell_type": "markdown",
   "id": "5fa75aee",
   "metadata": {},
   "source": [
    "#### Q36. How can we access the elements in a list?\n",
    "        A)using index we can access\n"
   ]
  },
  {
   "cell_type": "markdown",
   "id": "15b46092",
   "metadata": {},
   "source": [
    "#### Q37. Write a code to access the word \"iNeuron\" from the given list."
   ]
  },
  {
   "cell_type": "code",
   "execution_count": 7,
   "id": "682ec85e",
   "metadata": {},
   "outputs": [
    {
     "name": "stdout",
     "output_type": "stream",
     "text": [
      "iNeuron\n"
     ]
    }
   ],
   "source": [
    "lst = [1,2,3,\"Hi\",[45,54, \"iNeuron\"], \"Big Data\"]\n",
    "print(lst[4][2])"
   ]
  },
  {
   "cell_type": "markdown",
   "id": "6cce8064",
   "metadata": {},
   "source": [
    "#### Q38. Take a list as an input from the user and find the length of the list."
   ]
  },
  {
   "cell_type": "code",
   "execution_count": 8,
   "id": "0a736a8e",
   "metadata": {},
   "outputs": [
    {
     "name": "stdout",
     "output_type": "stream",
     "text": [
      "Enter the list with comma separated : Appl,Banana,Mango,Grapes\n",
      "4\n"
     ]
    }
   ],
   "source": [
    "lst = input(\"Enter the list with comma separated : \").split(',') #Appl,Banana,Mango,Grapes\n",
    "print(len(lst))"
   ]
  },
  {
   "cell_type": "markdown",
   "id": "989dd4bd",
   "metadata": {},
   "source": [
    "#### Q39. Add the word \"Big\" in the 3rd index of the given list."
   ]
  },
  {
   "cell_type": "code",
   "execution_count": 9,
   "id": "c67b5749",
   "metadata": {},
   "outputs": [
    {
     "name": "stdout",
     "output_type": "stream",
     "text": [
      "['Welcome', 'to', 'Big', 'Data', 'course']\n"
     ]
    }
   ],
   "source": [
    "lst = [\"Welcome\", \"to\", \"Data\", \"course\"]\n",
    "lst.insert(2, 'Big')\n",
    "print(lst)"
   ]
  },
  {
   "cell_type": "markdown",
   "id": "f8927c95",
   "metadata": {},
   "source": [
    "#### Q40. What is a tuple? How is it different from list?\n",
    "        A)Tuple is also used to store the sequence of data but unlike list it is immutable\n"
   ]
  },
  {
   "cell_type": "markdown",
   "id": "5e451329",
   "metadata": {},
   "source": [
    "#### Q41. How can you create a tuple in Python?\n",
    "        A) Using parenthesis () or tuple method"
   ]
  },
  {
   "cell_type": "markdown",
   "id": "ea8f7b52",
   "metadata": {},
   "source": [
    "#### Q42. Create a tuple and try to add your name in the tuple. Are you able to do it? Support your answer with reason.\n",
    "        A) tup = (\"ravi\",)\n",
    "            We have to use to , at the end if we have only one value in tuple to indicate it as tuple\n"
   ]
  },
  {
   "cell_type": "markdown",
   "id": "c469a9a1",
   "metadata": {},
   "source": [
    "#### Q43. Can two tuple be appended. If yes, write a code for it. If not, why?\n",
    "        A) We can't add elements to a tuple because it is immutable. tuple don't have appended or extend\n"
   ]
  },
  {
   "cell_type": "markdown",
   "id": "dca86874",
   "metadata": {},
   "source": [
    "#### Q44. Take a tuple as an input and print the count of elements in it."
   ]
  },
  {
   "cell_type": "code",
   "execution_count": 10,
   "id": "8e1e8b2a",
   "metadata": {},
   "outputs": [
    {
     "name": "stdout",
     "output_type": "stream",
     "text": [
      "(\"Welcome\", \"to\")\n",
      "2\n"
     ]
    }
   ],
   "source": [
    "tup1 = tuple(input().split(',') )#(\"Welcome\", \"to\")\n",
    "print(len(tup1))"
   ]
  },
  {
   "cell_type": "markdown",
   "id": "864b4e54",
   "metadata": {},
   "source": [
    "#### Q45. What are sets in Python?\n",
    "        A)Sets are used to store sequence of unique elements in unordered way in a single variable\n"
   ]
  },
  {
   "cell_type": "markdown",
   "id": "ae1307d8",
   "metadata": {},
   "source": [
    "#### Q46. How can you create a set?\n",
    "        A)Using {}"
   ]
  },
  {
   "cell_type": "markdown",
   "id": "195d8f85",
   "metadata": {},
   "source": [
    "#### Q47. Create a set and add \"iNeuron\" in your set."
   ]
  },
  {
   "cell_type": "code",
   "execution_count": 11,
   "id": "fb34e781",
   "metadata": {},
   "outputs": [
    {
     "name": "stdout",
     "output_type": "stream",
     "text": [
      "{'iNeuron', 'Welcome', 'to'}\n"
     ]
    }
   ],
   "source": [
    "st = {\"Welcome\", \"to\"}\n",
    "st.add(\"iNeuron\")\n",
    "print(st)"
   ]
  },
  {
   "cell_type": "markdown",
   "id": "6286239d",
   "metadata": {},
   "source": [
    "#### Q48. Try to add multiple values using add() function.\n",
    "        A) we can't add multiple values in add function"
   ]
  },
  {
   "cell_type": "markdown",
   "id": "ad9d2733",
   "metadata": {},
   "source": [
    "#### Q49. How is update() different from add()?\n",
    "        A)We use add() method to add single value to a set. We use update() method to add sequence values to a set"
   ]
  },
  {
   "cell_type": "markdown",
   "id": "d878342d",
   "metadata": {},
   "source": [
    "#### Q50. What is clear() in sets?\n",
    "        A)it removes all elements in a set"
   ]
  },
  {
   "cell_type": "markdown",
   "id": "1948ff27",
   "metadata": {},
   "source": [
    "#### Q51. What is frozen set?\n",
    "        A) Frozen set is an immutable while set is mutable"
   ]
  },
  {
   "cell_type": "markdown",
   "id": "0f70681a",
   "metadata": {},
   "source": [
    "#### Q52. How is frozen set different from set?\n",
    "        A) Frozen set is an immutable while set is mutable\n"
   ]
  },
  {
   "cell_type": "markdown",
   "id": "a56636cf",
   "metadata": {},
   "source": [
    "#### Q53. What is union() in sets? Explain via code.\n",
    "        A)it will give all the unique elements from both the sets"
   ]
  },
  {
   "cell_type": "code",
   "execution_count": 12,
   "id": "9b1961eb",
   "metadata": {},
   "outputs": [
    {
     "name": "stdout",
     "output_type": "stream",
     "text": [
      "{'ravi', 'Welcome', 'to'}\n"
     ]
    }
   ],
   "source": [
    "st1 = {\"Welcome\", \"to\"}\n",
    "st2 = {\"to\",\"ravi\"}\n",
    "print(st1.union(st2))"
   ]
  },
  {
   "cell_type": "markdown",
   "id": "cffa9eb9",
   "metadata": {},
   "source": [
    "#### Q54. What is intersection() in sets? Explain via code.\n",
    "\t\tit will give all the elements which are present in both the sets"
   ]
  },
  {
   "cell_type": "code",
   "execution_count": 13,
   "id": "785769a1",
   "metadata": {},
   "outputs": [
    {
     "name": "stdout",
     "output_type": "stream",
     "text": [
      "{'to'}\n"
     ]
    }
   ],
   "source": [
    "st1 = {\"Welcome\", \"to\"}\n",
    "st2 = {\"to\",\"ravi\"}\n",
    "print(st1.intersection(st2))"
   ]
  },
  {
   "cell_type": "markdown",
   "id": "f0961944",
   "metadata": {},
   "source": [
    "#### Q55. What is dictionary in Python?\n",
    "\t\tdictionary is used to store the data in key value pairs in python`"
   ]
  },
  {
   "cell_type": "markdown",
   "id": "5f64d233",
   "metadata": {},
   "source": [
    "#### Q56. How is dictionary different from all other data structures.\n",
    "\t\tdictionary is used to store the data in key value pairs in python"
   ]
  },
  {
   "cell_type": "markdown",
   "id": "f5c55516",
   "metadata": {},
   "source": [
    "#### Q57. How can we delare a dictionary in Python?\n",
    "\t\td = {'a':1, 'b':2}"
   ]
  },
  {
   "cell_type": "code",
   "execution_count": 14,
   "id": "ffbbe7e0",
   "metadata": {},
   "outputs": [
    {
     "data": {
      "text/plain": [
       "{'a': 1, 'b': 2}"
      ]
     },
     "execution_count": 14,
     "metadata": {},
     "output_type": "execute_result"
    }
   ],
   "source": [
    "d = {'a':1, 'b':2}\n",
    "d"
   ]
  },
  {
   "cell_type": "markdown",
   "id": "abf2920d",
   "metadata": {},
   "source": [
    "#### Q58. What will the output of the following?\n",
    "\n",
    "    var = {}\n",
    "    print(type(var))\n",
    "    class<dict>"
   ]
  },
  {
   "cell_type": "code",
   "execution_count": 15,
   "id": "2f991eb0",
   "metadata": {},
   "outputs": [
    {
     "name": "stdout",
     "output_type": "stream",
     "text": [
      "<class 'dict'>\n"
     ]
    }
   ],
   "source": [
    "var = {}\n",
    "print(type(var))"
   ]
  },
  {
   "cell_type": "markdown",
   "id": "87c98766",
   "metadata": {},
   "source": [
    "#### Q59. How can we add an element in a dictionary?"
   ]
  },
  {
   "cell_type": "code",
   "execution_count": 16,
   "id": "5dbe628f",
   "metadata": {},
   "outputs": [
    {
     "data": {
      "text/plain": [
       "{'a': 1, 'b': 2, 'c': 3}"
      ]
     },
     "execution_count": 16,
     "metadata": {},
     "output_type": "execute_result"
    }
   ],
   "source": [
    "d['c'] = 3\n",
    "d"
   ]
  },
  {
   "cell_type": "markdown",
   "id": "518168c7",
   "metadata": {},
   "source": [
    "#### Q60. Create a dictionary and access all the values in that dictionary."
   ]
  },
  {
   "cell_type": "code",
   "execution_count": 17,
   "id": "ac7793ba",
   "metadata": {},
   "outputs": [
    {
     "name": "stdout",
     "output_type": "stream",
     "text": [
      "dict_values([1, 2, 3])\n"
     ]
    }
   ],
   "source": [
    "print(d.values())"
   ]
  },
  {
   "cell_type": "markdown",
   "id": "ba555fbf",
   "metadata": {},
   "source": [
    "#### Q61. Create a nested dictionary and access all the element in the inner dictionary."
   ]
  },
  {
   "cell_type": "code",
   "execution_count": 18,
   "id": "c9cfdae2",
   "metadata": {},
   "outputs": [
    {
     "name": "stdout",
     "output_type": "stream",
     "text": [
      "dict_values([{'name': 'John', 'age': '27', 'sex': 'Male'}, {'name': 'Marie', 'age': '22', 'sex': 'Female'}, {'name': 'Luna', 'age': '24', 'sex': 'Female', 'married': 'No'}, {'name': 'Peter', 'age': '29', 'sex': 'Male', 'married': 'Yes'}])\n"
     ]
    }
   ],
   "source": [
    "people = {1: {'name': 'John', 'age': '27', 'sex': 'Male'},\n",
    "          2: {'name': 'Marie', 'age': '22', 'sex': 'Female'},\n",
    "          3: {'name': 'Luna', 'age': '24', 'sex': 'Female', 'married': 'No'},\n",
    "          4: {'name': 'Peter', 'age': '29', 'sex': 'Male', 'married': 'Yes'}}\n",
    "\n",
    "\n",
    "print(people.values())"
   ]
  },
  {
   "cell_type": "markdown",
   "id": "4bf942aa",
   "metadata": {},
   "source": [
    "#### Q62. What is the use of get() function?\n",
    "\t\tIt will return the value of the particular key we passed\n",
    "\t\t\td['c']"
   ]
  },
  {
   "cell_type": "markdown",
   "id": "2e78bec2",
   "metadata": {},
   "source": [
    "#### Q63. What is the use of items() function?\n",
    "\t\titems() method is used to return the list with all dictionary keys with values.\n",
    "\n",
    "#### Q64. What is the use of pop() function?\n",
    "\t\tpop() method removes and returns the specified element from the dictionary.\n",
    "\n",
    "#### Q65. What is the use of popitems() function?\n",
    "\t\tpopitem() method removes the last inserted key-value pair from the dictionary and returns it as a tuple\n",
    "\t\t\n",
    "#### Q66. What is the use of keys() function?\n",
    "\t\tit will return all the keys in dictionary\n",
    "\n",
    "#### Q67. What is the use of values() function?\n",
    "\t\tit will return all the values in dictionary\n",
    "\n",
    "#### Q68. What are loops in Python?\n",
    "\t\tLoops are used to execute a block of statements continuously until the condition is true  \n",
    "\n",
    "#### Q69. How many type of loop are there in Python?\n",
    "\t\twhile, for, nested loops\n",
    "\n",
    "#### Q70. What is the difference between for and while loops?\n",
    "\t\twhile loop first check  for the condition and then executes the statements\n",
    "\t\tfor loop first executes the statements until the condition succeed\n",
    "\t\t\n",
    "#### Q71. What is the use of continue statement?\n",
    "\t\tIt returns the control to the beginning of the loop.\n",
    "\n",
    "#### Q72. What is the use of break statement?\n",
    "\t\tIt brings control out of the loop\n",
    "\n",
    "#### Q73. What is the use of pass statement?\n",
    "\t\tIt uses to write empty blocks\n",
    "\n",
    "#### Q74. What is the use of range() function?\n",
    "\t\tIt will give the sequence of numbers in the given range"
   ]
  },
  {
   "cell_type": "markdown",
   "id": "61fcb499",
   "metadata": {},
   "source": [
    "#### Q75. How can you loop over a dictionary?"
   ]
  },
  {
   "cell_type": "code",
   "execution_count": 19,
   "id": "d3340e02",
   "metadata": {},
   "outputs": [
    {
     "name": "stdout",
     "output_type": "stream",
     "text": [
      "a 1\n",
      "b 2\n",
      "c 3\n"
     ]
    }
   ],
   "source": [
    "for key,value in d.items():\n",
    "    print(key,value)"
   ]
  },
  {
   "cell_type": "markdown",
   "id": "41ec3650",
   "metadata": {},
   "source": [
    "## Coding problems"
   ]
  },
  {
   "cell_type": "markdown",
   "id": "216d7171",
   "metadata": {},
   "source": [
    "#### Q76. Write a Python program to find the factorial of a given number."
   ]
  },
  {
   "cell_type": "code",
   "execution_count": 20,
   "id": "dc2d67b2",
   "metadata": {},
   "outputs": [
    {
     "name": "stdout",
     "output_type": "stream",
     "text": [
      "720\n",
      "120\n"
     ]
    }
   ],
   "source": [
    "def factorial(n):\n",
    "    if n == 0 or n == 1:\n",
    "        return 1\n",
    "    else:\n",
    "        fact = 1\n",
    "        while n>1:\n",
    "            fact = fact *n\n",
    "            n-=1\n",
    "        return fact\n",
    "\n",
    "print(factorial(6))\n",
    "\n",
    "#Using recursion \n",
    "def fact_recur(n):\n",
    "    if n == 0 or n == 1:\n",
    "        return 1\n",
    "    else:\n",
    "        return n * fact_recur(n-1)\n",
    "\n",
    "print(fact_recur(5))"
   ]
  },
  {
   "cell_type": "markdown",
   "id": "369bd726",
   "metadata": {},
   "source": [
    "#### Q77. Write a Python program to calculate the simple interest. Formula to calculate simple interest is SI = (PRT)/100"
   ]
  },
  {
   "cell_type": "code",
   "execution_count": 21,
   "id": "1d2b1190",
   "metadata": {},
   "outputs": [
    {
     "name": "stdout",
     "output_type": "stream",
     "text": [
      "144.0\n"
     ]
    }
   ],
   "source": [
    "def simpleIntrest(p,r,t):\n",
    "    return (p*r*t)/100.0\n",
    "\n",
    "print(simpleIntrest(1000, 1.2, 12))"
   ]
  },
  {
   "cell_type": "markdown",
   "id": "3e8dc937",
   "metadata": {},
   "source": [
    "#### Q78. Write a Python program to calculate the compound interest. Formula of compound interest is A = P(1+ R/100)^t."
   ]
  },
  {
   "cell_type": "code",
   "execution_count": 22,
   "id": "657c2cc8",
   "metadata": {},
   "outputs": [
    {
     "name": "stdout",
     "output_type": "stream",
     "text": [
      "16288.946267774416\n"
     ]
    }
   ],
   "source": [
    "def compoundIntrest(p,r,t):\n",
    "    return p * (pow((1+r/100.0),t))\n",
    "\n",
    "print(compoundIntrest(10000, 10.25, 5))\n"
   ]
  },
  {
   "cell_type": "markdown",
   "id": "621df447",
   "metadata": {},
   "source": [
    "#### Q79. Write a Python program to check if a number is prime or not."
   ]
  },
  {
   "cell_type": "code",
   "execution_count": 23,
   "id": "fc7b1337",
   "metadata": {},
   "outputs": [
    {
     "name": "stdout",
     "output_type": "stream",
     "text": [
      "Prime Numnber\n"
     ]
    }
   ],
   "source": [
    "def prime_check(n):\n",
    "    if n <=0:\n",
    "        print(\"please enter a valid positive number\")\n",
    "    \n",
    "    else:\n",
    "        for i in range(2,n//2):\n",
    "            if n%i == 0:\n",
    "                flag = 1\n",
    "                break\n",
    "            else:\n",
    "                flag = 0\n",
    "        print(\"Not a Prime Numnber\") if flag == 1 else  print(\"Prime Numnber\")\n",
    "\n",
    "prime_check(617)"
   ]
  },
  {
   "cell_type": "markdown",
   "id": "419abf47",
   "metadata": {},
   "source": [
    "#### Q80. Write a Python program to check Armstrong Number."
   ]
  },
  {
   "cell_type": "code",
   "execution_count": 24,
   "id": "40541933",
   "metadata": {},
   "outputs": [
    {
     "name": "stdout",
     "output_type": "stream",
     "text": [
      "Armstrong Number\n"
     ]
    }
   ],
   "source": [
    "def isArmstrong(n):\n",
    "    p = len(str(n))\n",
    "    temp = n\n",
    "    res =0\n",
    "    while n >0:\n",
    "        res = res+pow(n%10,p)\n",
    "        n = n//10\n",
    "    \n",
    "    if temp == res:\n",
    "        print(\"Armstrong Number\")\n",
    "    else:\n",
    "        print(\"Not an Armstrong Number\")\n",
    "        \n",
    "isArmstrong(1634)"
   ]
  },
  {
   "cell_type": "markdown",
   "id": "6090f06a",
   "metadata": {},
   "source": [
    "#### Q81. Write a Python program to find the n-th Fibonacci Number."
   ]
  },
  {
   "cell_type": "code",
   "execution_count": 25,
   "id": "8d35fffa",
   "metadata": {},
   "outputs": [
    {
     "name": "stdout",
     "output_type": "stream",
     "text": [
      "34\n",
      "34\n"
     ]
    }
   ],
   "source": [
    "def fib(n):\n",
    "    a,b = 0,1\n",
    "    if n < 0:\n",
    "        print(\"Please enter valid input\")\n",
    "    elif n ==0:\n",
    "        print(0)\n",
    "    elif n ==1:\n",
    "        print(b)\n",
    "        \n",
    "    else:\n",
    "        for i in range(1,n):  \n",
    "            c = a+b\n",
    "            a = b\n",
    "            b = c\n",
    "        print(b)\n",
    "fib(9)\n",
    " \n",
    "#recursion\n",
    "\n",
    "def fib_recur(n):\n",
    "    a,b = 0,1\n",
    "    \n",
    "    if n < 0:\n",
    "        return \"Please enter valid input\"\n",
    "    elif n ==0:\n",
    "        return 0\n",
    "    elif n ==1:\n",
    "        return b\n",
    "        \n",
    "    else:\n",
    "        return fib_recur(n-1) + fib_recur(n-2)\n",
    "        \n",
    "print(fib_recur(9))"
   ]
  },
  {
   "cell_type": "code",
   "execution_count": 26,
   "id": "1de3e758",
   "metadata": {},
   "outputs": [
    {
     "name": "stdout",
     "output_type": "stream",
     "text": [
      "0 1 1 2 3 5 8 13 21 "
     ]
    }
   ],
   "source": [
    "def fib(n):\n",
    "    a,b = 0,1\n",
    "    if n < 0:\n",
    "        print(\"Please enter valid input\")\n",
    "    elif n ==0:\n",
    "        print(0)\n",
    "    elif n ==1:\n",
    "        print(b)\n",
    "        \n",
    "    else:\n",
    "        print(a, end = ' ')\n",
    "        for i in range(1,n): \n",
    "            print(b, end = ' ')\n",
    "            c = a+b\n",
    "            a = b\n",
    "            b = c\n",
    "#             print(b)\n",
    "fib(9)\n",
    " "
   ]
  },
  {
   "cell_type": "markdown",
   "id": "f882bd75",
   "metadata": {},
   "source": [
    "#### Q82. Write a Python program to interchange the first and last element in a list."
   ]
  },
  {
   "cell_type": "code",
   "execution_count": 27,
   "id": "1d93f9ae",
   "metadata": {},
   "outputs": [
    {
     "name": "stdout",
     "output_type": "stream",
     "text": [
      "[810, 2, 5, 7, 9, 6, 5, 4, 2, 1]\n",
      "[180, 1, 2, 5, 7, 9, 6, 5, 4, 2, 810, 410]\n"
     ]
    }
   ],
   "source": [
    "lst = [1,2,5,7,9,6,5,4,2,810]\n",
    "temp = lst[0]\n",
    "lst[0] = lst[-1]\n",
    "lst[-1] = temp\n",
    "print(lst)\n",
    "\n",
    "lst2 = [410,1,2,5,7,9,6,5,4,2,810,180]\n",
    "lst2[0], lst2[-1] = lst2[-1], lst2[0]\n",
    "print(lst2)"
   ]
  },
  {
   "cell_type": "markdown",
   "id": "69495923",
   "metadata": {},
   "source": [
    "#### Q83. Write a Python program to swap two elements in a list."
   ]
  },
  {
   "cell_type": "code",
   "execution_count": 28,
   "id": "6449859e",
   "metadata": {},
   "outputs": [
    {
     "data": {
      "text/plain": [
       "[1, 2, 5, 7, 810, 6, 5, 4, 2, 9]"
      ]
     },
     "execution_count": 28,
     "metadata": {},
     "output_type": "execute_result"
    }
   ],
   "source": [
    "lst = [1,2,5,7,9,6,5,4,2,810]\n",
    "pos1 = 5\n",
    "pos2 = 10\n",
    "lst[pos1-1], lst[pos2-1] = lst[pos2-1], lst[pos1-1]\n",
    "lst"
   ]
  },
  {
   "cell_type": "markdown",
   "id": "25e5317b",
   "metadata": {},
   "source": [
    "#### Q84. Write a Python program to find N largest element from a list."
   ]
  },
  {
   "cell_type": "code",
   "execution_count": 29,
   "id": "33a136f0",
   "metadata": {},
   "outputs": [
    {
     "name": "stdout",
     "output_type": "stream",
     "text": [
      "810\n",
      "810\n"
     ]
    }
   ],
   "source": [
    "lst = [1,2,5,7,9,6,5,4,2,810]\n",
    "print(max(lst))\n",
    "\n",
    "# Traditional way\n",
    "max_num = lst[0]\n",
    "\n",
    "for i in lst:\n",
    "    if i > max_num:\n",
    "        max_num = i\n",
    "        \n",
    "print(max_num)"
   ]
  },
  {
   "cell_type": "markdown",
   "id": "2d1bda7a",
   "metadata": {},
   "source": [
    "#### Q85. Write a Python program to find cumulative sum of a list."
   ]
  },
  {
   "cell_type": "code",
   "execution_count": 30,
   "id": "8fa759ea",
   "metadata": {},
   "outputs": [
    {
     "name": "stdout",
     "output_type": "stream",
     "text": [
      "851\n",
      "851\n"
     ]
    }
   ],
   "source": [
    "lst = [1,2,5,7,9,6,5,4,2,810]\n",
    "print(sum(lst))\n",
    "\n",
    "# Traditional way\n",
    "sum_lst = 0\n",
    "\n",
    "for i in lst:\n",
    "    sum_lst += i\n",
    "        \n",
    "print(sum_lst)"
   ]
  },
  {
   "cell_type": "markdown",
   "id": "00d281de",
   "metadata": {},
   "source": [
    "#### Q86. Write a Python program to check if a string is palindrome or not."
   ]
  },
  {
   "cell_type": "code",
   "execution_count": 31,
   "id": "2fa2b3f0",
   "metadata": {},
   "outputs": [
    {
     "name": "stdout",
     "output_type": "stream",
     "text": [
      "Enter a string to check if is Palindrome or not: malayalam\n",
      "Planidrome\n"
     ]
    }
   ],
   "source": [
    "string = input(\"Enter a string to check if is Palindrome or not: \")\n",
    "\n",
    "rev_string = string[::-1]\n",
    "\n",
    "if string == rev_string:\n",
    "    print(\"Planidrome\")\n",
    "else:\n",
    "    print(\"Not a Palindrome\")"
   ]
  },
  {
   "cell_type": "markdown",
   "id": "062815a9",
   "metadata": {},
   "source": [
    "#### Q87. Write a Python program to remove i'th element from a string."
   ]
  },
  {
   "cell_type": "code",
   "execution_count": 32,
   "id": "20a044ff",
   "metadata": {},
   "outputs": [
    {
     "name": "stdout",
     "output_type": "stream",
     "text": [
      "Enter a string to: ravi varma\n",
      "Enter the postion to remove that element : 2\n",
      "Entered String: ravi varma \n",
      "after i'th element removed rvi varma \n"
     ]
    }
   ],
   "source": [
    "string = input(\"Enter a string to: \")\n",
    "pos = int(input(\"Enter the postion to remove that element : \"))\n",
    "\n",
    "print(\"Entered String: {} \\nafter i'th element removed {} \".format(string, string[:pos-1] + string[pos:]))\n"
   ]
  },
  {
   "cell_type": "markdown",
   "id": "1bd8feba",
   "metadata": {},
   "source": [
    "#### Q88. Write a Python program to check if a substring is present in a given string."
   ]
  },
  {
   "cell_type": "code",
   "execution_count": 33,
   "id": "e7ac3663",
   "metadata": {},
   "outputs": [
    {
     "name": "stdout",
     "output_type": "stream",
     "text": [
      "Enter a string : ravi varma\n",
      "Enter another string: avi\n",
      "SubString is present in the main string\n"
     ]
    }
   ],
   "source": [
    "string = input(\"Enter a string : \")\n",
    "sub_str = input(\"Enter another string: \")\n",
    "\n",
    "if sub_str in string:\n",
    "    print(\"SubString is present in the main string\")\n",
    "else:\n",
    "    print(\"Not present\")"
   ]
  },
  {
   "cell_type": "markdown",
   "id": "9e4c4cf2",
   "metadata": {},
   "source": [
    "#### Q89. Write a Python program to find words which are greater than given length k."
   ]
  },
  {
   "cell_type": "code",
   "execution_count": 34,
   "id": "1b6dd10e",
   "metadata": {},
   "outputs": [
    {
     "name": "stdout",
     "output_type": "stream",
     "text": [
      "Enter a sentence: Working on iNeuron Python assignmemnts\n",
      "Enter the length: 5\n",
      "Working,iNeuron,Python,assignmemnts\n"
     ]
    }
   ],
   "source": [
    "string = input(\"Enter a sentence: \")\n",
    "words = string.split(\" \")\n",
    "k = int(input(\"Enter the length: \"))\n",
    "res = []\n",
    "\n",
    "for word in words:\n",
    "    if len(word) > k:\n",
    "        res.append(word)\n",
    "        \n",
    "print(\",\".join(res))"
   ]
  },
  {
   "cell_type": "markdown",
   "id": "44954454",
   "metadata": {},
   "source": [
    "#### Q90. Write a Python program to extract unique dictionary values."
   ]
  },
  {
   "cell_type": "code",
   "execution_count": 35,
   "id": "4d2129b6",
   "metadata": {},
   "outputs": [
    {
     "data": {
      "text/plain": [
       "{1, 2, 3, 4}"
      ]
     },
     "execution_count": 35,
     "metadata": {},
     "output_type": "execute_result"
    }
   ],
   "source": [
    "d = {'a':1, 'b':2, 'c':3, 'd':4, 'e':4, 'f':2}\n",
    "set(d.values())"
   ]
  },
  {
   "cell_type": "markdown",
   "id": "e6f7ec05",
   "metadata": {},
   "source": [
    "#### Q91. Write a Python program to merge two dictionary."
   ]
  },
  {
   "cell_type": "code",
   "execution_count": 36,
   "id": "eb47775b",
   "metadata": {},
   "outputs": [
    {
     "data": {
      "text/plain": [
       "{'a': 1, 'b': 2, 'c': 3, 'd': 4, 'e': 4, 'f': 2}"
      ]
     },
     "execution_count": 36,
     "metadata": {},
     "output_type": "execute_result"
    }
   ],
   "source": [
    "d1 = {'a':1, 'b':2, 'c':3}\n",
    "d2 = {'d':4, 'e':4, 'f':2}\n",
    "d1.update(d2)\n",
    "d1"
   ]
  },
  {
   "cell_type": "markdown",
   "id": "b625bfc7",
   "metadata": {},
   "source": [
    "#### Q92. Write a Python program to convert a list of tuples into dictionary.\n",
    "        Input : [('Sachin', 10), ('MSD', 7), ('Kohli', 18), ('Rohit', 45)]\n",
    "        Output : {'Sachin': 10, 'MSD': 7, 'Kohli': 18, 'Rohit': 45}"
   ]
  },
  {
   "cell_type": "code",
   "execution_count": 37,
   "id": "8b99a66d",
   "metadata": {},
   "outputs": [
    {
     "data": {
      "text/plain": [
       "{'Sachin': 10, 'MSD': 7, 'Kohli': 18, 'Rohit': 45}"
      ]
     },
     "execution_count": 37,
     "metadata": {},
     "output_type": "execute_result"
    }
   ],
   "source": [
    "lsttup = [('Sachin', 10), ('MSD', 7), ('Kohli', 18), ('Rohit', 45)]\n",
    "d = dict(lsttup)\n",
    "d"
   ]
  },
  {
   "cell_type": "markdown",
   "id": "44b70f69",
   "metadata": {},
   "source": [
    "#### Q93. Write a Python program to create a list of tuples from given list having number and its cube in each tuple.\n",
    "        Input: list = [9, 5, 6]\n",
    "        Output: [(9, 729), (5, 125), (6, 216)]"
   ]
  },
  {
   "cell_type": "code",
   "execution_count": 38,
   "id": "4a55662a",
   "metadata": {},
   "outputs": [
    {
     "data": {
      "text/plain": [
       "[(9, 729), (5, 125), (6, 216)]"
      ]
     },
     "execution_count": 38,
     "metadata": {},
     "output_type": "execute_result"
    }
   ],
   "source": [
    "lst = [9, 5, 6]\n",
    "res = [(x,pow(x,3)) for x in lst]\n",
    "res"
   ]
  },
  {
   "cell_type": "markdown",
   "id": "eea04e33",
   "metadata": {},
   "source": [
    "#### Q94. Write a Python program to get all combinations of 2 tuples.\n",
    "        Input : test_tuple1 = (7, 2), test_tuple2 = (7, 8)\n",
    "        Output : [(7, 7), (7, 8), (2, 7), (2, 8), (7, 7), (7, 2), (8, 7), (8, 2)]"
   ]
  },
  {
   "cell_type": "code",
   "execution_count": 39,
   "id": "64b1b086",
   "metadata": {},
   "outputs": [
    {
     "data": {
      "text/plain": [
       "[(7, 7), (7, 8), (2, 7), (2, 8), (7, 7), (8, 7), (7, 2), (8, 2)]"
      ]
     },
     "execution_count": 39,
     "metadata": {},
     "output_type": "execute_result"
    }
   ],
   "source": [
    "test_tuple1 = (7, 2)\n",
    "test_tuple2 = (7, 8)\n",
    "\n",
    "res1 = [(i,j) for i in test_tuple1  for j in test_tuple2] + [(j,i) for i in test_tuple1  for j in test_tuple2]\n",
    "res1"
   ]
  },
  {
   "cell_type": "markdown",
   "id": "45f266a5",
   "metadata": {},
   "source": [
    "#### Q95. Write a Python program to sort a list of tuples by second item.\n",
    "        Input : [('for', 24), ('Geeks', 8), ('Geeks', 30)] \n",
    "        Output : [('Geeks', 8), ('for', 24), ('Geeks', 30)]"
   ]
  },
  {
   "cell_type": "code",
   "execution_count": 40,
   "id": "f551d2d7",
   "metadata": {},
   "outputs": [
    {
     "data": {
      "text/plain": [
       "[('Geeks', 8), ('for', 24), ('Geeks', 30)]"
      ]
     },
     "execution_count": 40,
     "metadata": {},
     "output_type": "execute_result"
    }
   ],
   "source": [
    "input1 = [('for', 24), ('Geeks', 8), ('Geeks', 30)] \n",
    "sorted(input1, key=lambda x: x[1])"
   ]
  },
  {
   "cell_type": "markdown",
   "id": "668604fe",
   "metadata": {},
   "source": [
    "#### Q96. Write a python program to print below pattern.\n",
    "\n",
    "        * \n",
    "        * * \n",
    "        * * * \n",
    "        * * * * \n",
    "        * * * * * "
   ]
  },
  {
   "cell_type": "code",
   "execution_count": 41,
   "id": "23bbbeca",
   "metadata": {},
   "outputs": [
    {
     "name": "stdout",
     "output_type": "stream",
     "text": [
      "\n",
      "* \n",
      "* * \n",
      "* * * \n",
      "* * * * \n",
      "* * * * * \n"
     ]
    }
   ],
   "source": [
    "n = 5\n",
    "for i in range(n+1):\n",
    "    print(i * '* ', end = '')\n",
    "    print()"
   ]
  },
  {
   "cell_type": "markdown",
   "id": "09d8a584",
   "metadata": {},
   "source": [
    "#### Q97. Write a python program to print below pattern.\n",
    "\n",
    "            *\n",
    "           **\n",
    "          ***\n",
    "         ****\n",
    "        *****"
   ]
  },
  {
   "cell_type": "code",
   "execution_count": 42,
   "id": "5dc40451",
   "metadata": {},
   "outputs": [
    {
     "name": "stdout",
     "output_type": "stream",
     "text": [
      "        * \r\n",
      "      * * \r\n",
      "    * * * \r\n",
      "  * * * * \r\n",
      "* * * * * \r\n"
     ]
    }
   ],
   "source": [
    "n = 5\n",
    "s = n*2 -2\n",
    "for i in range(n):\n",
    "    for j in range(s):\n",
    "        print(end = ' ')\n",
    "    s -= 2\n",
    "    for j in range(0, i+1):\n",
    "        print(\"* \", end=\"\")\n",
    "        \n",
    "    print(\"\\r\")"
   ]
  },
  {
   "cell_type": "markdown",
   "id": "532883cb",
   "metadata": {},
   "source": [
    "#### Q98. Write a python program to print below pattern.\n",
    "\n",
    "        * \n",
    "       * * \n",
    "      * * * \n",
    "     * * * * \n",
    "    * * * * * "
   ]
  },
  {
   "cell_type": "code",
   "execution_count": 43,
   "id": "da5d0f90",
   "metadata": {},
   "outputs": [
    {
     "name": "stdout",
     "output_type": "stream",
     "text": [
      "    * \r\n",
      "   * * \r\n",
      "  * * * \r\n",
      " * * * * \r\n",
      "* * * * * \r\n"
     ]
    }
   ],
   "source": [
    "n = 5\n",
    "s = n -1\n",
    "for i in range(n):\n",
    "    for j in range(s):\n",
    "        print(end = ' ')\n",
    "    s -= 1\n",
    "    for j in range(0, i+1):\n",
    "        print(\"* \", end=\"\")\n",
    "        \n",
    "    print(\"\\r\")"
   ]
  },
  {
   "cell_type": "markdown",
   "id": "4a156e7c",
   "metadata": {},
   "source": [
    "#### Q99. Write a python program to print below pattern.\n",
    "\n",
    "        1 \n",
    "        1 2 \n",
    "        1 2 3 \n",
    "        1 2 3 4 \n",
    "        1 2 3 4 5"
   ]
  },
  {
   "cell_type": "code",
   "execution_count": 44,
   "id": "9f92d11d",
   "metadata": {},
   "outputs": [
    {
     "name": "stdout",
     "output_type": "stream",
     "text": [
      "1 \r\n",
      "1 2 \r\n",
      "1 2 3 \r\n",
      "1 2 3 4 \r\n",
      "1 2 3 4 5 \r\n"
     ]
    }
   ],
   "source": [
    "n = 5\n",
    "for i in range(1,n+1):\n",
    "    for j in range(1,i+1):\n",
    "        print(j, end =\" \")\n",
    "    print('\\r')\n",
    "    "
   ]
  },
  {
   "cell_type": "markdown",
   "id": "14723fcd",
   "metadata": {},
   "source": [
    "#### Q100. Write a python program to print below pattern.\n",
    "\n",
    "        A \n",
    "        B B \n",
    "        C C C \n",
    "        D D D D \n",
    "        E E E E E "
   ]
  },
  {
   "cell_type": "code",
   "execution_count": 45,
   "id": "bab64460",
   "metadata": {},
   "outputs": [
    {
     "name": "stdout",
     "output_type": "stream",
     "text": [
      "A \r\n",
      "B B \r\n",
      "C C C \r\n",
      "D D D D \r\n",
      "E E E E E \r\n"
     ]
    }
   ],
   "source": [
    "n = 5\n",
    "ascii_num = 64\n",
    "for i in range(1,n+1):\n",
    "    ascii_num += 1\n",
    "    for j in range(1,i+1):\n",
    "        print(chr(ascii_num), end =\" \")\n",
    "    print('\\r')\n",
    "    "
   ]
  },
  {
   "cell_type": "code",
   "execution_count": 46,
   "id": "6f407c4d",
   "metadata": {},
   "outputs": [
    {
     "data": {
      "text/plain": [
       "'A'"
      ]
     },
     "execution_count": 46,
     "metadata": {},
     "output_type": "execute_result"
    }
   ],
   "source": [
    "ord('A')\n",
    "chr(65)"
   ]
  }
 ],
 "metadata": {
  "kernelspec": {
   "display_name": "Python 3 (ipykernel)",
   "language": "python",
   "name": "python3"
  },
  "language_info": {
   "codemirror_mode": {
    "name": "ipython",
    "version": 3
   },
   "file_extension": ".py",
   "mimetype": "text/x-python",
   "name": "python",
   "nbconvert_exporter": "python",
   "pygments_lexer": "ipython3",
   "version": "3.9.5"
  }
 },
 "nbformat": 4,
 "nbformat_minor": 5
}
